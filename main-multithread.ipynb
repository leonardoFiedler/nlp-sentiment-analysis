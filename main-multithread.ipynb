{
 "cells": [
  {
   "cell_type": "code",
   "execution_count": 1,
   "metadata": {
    "id": "WJ_0l_9UYk5c"
   },
   "outputs": [],
   "source": [
    "# uptade de versão se necessário\n",
    "#!pip install -U spacy"
   ]
  },
  {
   "cell_type": "code",
   "execution_count": 2,
   "metadata": {
    "id": "MRw_TNSQYk5n"
   },
   "outputs": [],
   "source": [
    "#Documentos utilizados\n",
    "# https://realpython.com/sentiment-analysis-python/\n",
    "# https://www.kaggle.com/lakshmi25npathi/imdb-dataset-of-50k-movie-reviews"
   ]
  },
  {
   "cell_type": "code",
   "execution_count": 3,
   "metadata": {
    "id": "vIsJg21QYk5p"
   },
   "outputs": [],
   "source": [
    "from collections import defaultdict\n",
    "\n",
    "import numpy as np\n",
    "import pandas as pd\n",
    "from sklearn.model_selection import train_test_split\n",
    "import spacy\n",
    "import multiprocessing as mp"
   ]
  },
  {
   "cell_type": "code",
   "execution_count": 4,
   "metadata": {
    "id": "6G8GASYwYk5p"
   },
   "outputs": [],
   "source": [
    "df_imdb = pd.read_csv('./IMDB Dataset.csv')"
   ]
  },
  {
   "cell_type": "code",
   "execution_count": 5,
   "metadata": {
    "colab": {
     "base_uri": "https://localhost:8080/"
    },
    "id": "XPsMDvpOYk5q",
    "outputId": "90090fad-7cc3-468b-f1b0-5a096baf32b2"
   },
   "outputs": [
    {
     "data": {
      "text/plain": [
       "review       50000\n",
       "sentiment    50000\n",
       "dtype: int64"
      ]
     },
     "execution_count": 5,
     "metadata": {},
     "output_type": "execute_result"
    }
   ],
   "source": [
    "df_imdb.count()"
   ]
  },
  {
   "cell_type": "code",
   "execution_count": 6,
   "metadata": {
    "colab": {
     "base_uri": "https://localhost:8080/",
     "height": 204
    },
    "id": "NXNguMSzYk5r",
    "outputId": "461c8685-a730-49b2-ea33-fec440530b00"
   },
   "outputs": [
    {
     "data": {
      "text/html": [
       "<div>\n",
       "<style scoped>\n",
       "    .dataframe tbody tr th:only-of-type {\n",
       "        vertical-align: middle;\n",
       "    }\n",
       "\n",
       "    .dataframe tbody tr th {\n",
       "        vertical-align: top;\n",
       "    }\n",
       "\n",
       "    .dataframe thead th {\n",
       "        text-align: right;\n",
       "    }\n",
       "</style>\n",
       "<table border=\"1\" class=\"dataframe\">\n",
       "  <thead>\n",
       "    <tr style=\"text-align: right;\">\n",
       "      <th></th>\n",
       "      <th>review</th>\n",
       "      <th>sentiment</th>\n",
       "    </tr>\n",
       "  </thead>\n",
       "  <tbody>\n",
       "    <tr>\n",
       "      <th>0</th>\n",
       "      <td>One of the other reviewers has mentioned that ...</td>\n",
       "      <td>positive</td>\n",
       "    </tr>\n",
       "    <tr>\n",
       "      <th>1</th>\n",
       "      <td>A wonderful little production. &lt;br /&gt;&lt;br /&gt;The...</td>\n",
       "      <td>positive</td>\n",
       "    </tr>\n",
       "    <tr>\n",
       "      <th>2</th>\n",
       "      <td>I thought this was a wonderful way to spend ti...</td>\n",
       "      <td>positive</td>\n",
       "    </tr>\n",
       "    <tr>\n",
       "      <th>3</th>\n",
       "      <td>Basically there's a family where a little boy ...</td>\n",
       "      <td>negative</td>\n",
       "    </tr>\n",
       "    <tr>\n",
       "      <th>4</th>\n",
       "      <td>Petter Mattei's \"Love in the Time of Money\" is...</td>\n",
       "      <td>positive</td>\n",
       "    </tr>\n",
       "  </tbody>\n",
       "</table>\n",
       "</div>"
      ],
      "text/plain": [
       "                                              review sentiment\n",
       "0  One of the other reviewers has mentioned that ...  positive\n",
       "1  A wonderful little production. <br /><br />The...  positive\n",
       "2  I thought this was a wonderful way to spend ti...  positive\n",
       "3  Basically there's a family where a little boy ...  negative\n",
       "4  Petter Mattei's \"Love in the Time of Money\" is...  positive"
      ]
     },
     "execution_count": 6,
     "metadata": {},
     "output_type": "execute_result"
    }
   ],
   "source": [
    "df_imdb.head()"
   ]
  },
  {
   "cell_type": "code",
   "execution_count": 7,
   "metadata": {
    "colab": {
     "base_uri": "https://localhost:8080/",
     "height": 282
    },
    "id": "S_zvFS6_Yk5s",
    "outputId": "d67c857a-9051-40dd-eb36-fba38691b22e"
   },
   "outputs": [
    {
     "data": {
      "text/plain": [
       "<matplotlib.axes._subplots.AxesSubplot at 0x21094b99be0>"
      ]
     },
     "execution_count": 7,
     "metadata": {},
     "output_type": "execute_result"
    },
    {
     "data": {
      "image/png": "[encoded data removed]",
      "text/plain": [
       "<Figure size 432x288 with 1 Axes>"
      ]
     },
     "metadata": {
      "needs_background": "light"
     },
     "output_type": "display_data"
    }
   ],
   "source": [
    "df_imdb.sentiment.value_counts().plot(kind = 'barh')"
   ]
  },
  {
   "cell_type": "code",
   "execution_count": 8,
   "metadata": {
    "id": "sXkNgZV6dp_g"
   },
   "outputs": [],
   "source": [
    "# df_imdb.sentiment.value_counts().plot(kind = 'barh')"
   ]
  },
  {
   "cell_type": "code",
   "execution_count": 9,
   "metadata": {
    "id": "U36WxYlyYk5s"
   },
   "outputs": [],
   "source": [
    "# Carrega o modelo spacy em ingles e portugues\n",
    "# !python -m spacy download en_core_web_sm\n",
    "# !python -m spacy download pt_core_news_sm\n",
    "\n",
    "#nlp = spacy.load(\"en_core_web_sm\")"
   ]
  },
  {
   "cell_type": "code",
   "execution_count": 10,
   "metadata": {
    "id": "hRHcR-P9wfp6"
   },
   "outputs": [],
   "source": [
    "# Método para lidar com as tags HTML que podem aparecer \n",
    "# Ele foi tirado daqui: https://stackoverflow.com/questions/753052/strip-html-from-strings-in-python\n",
    "#from io import StringIO\n",
    "#from html.parser import HTMLParser\n",
    "#\n",
    "#class MLStripper(HTMLParser):\n",
    "#    def __init__(self):\n",
    "#        super().__init__()\n",
    "#        self.reset()\n",
    "#        self.strict = False\n",
    "#        self.convert_charrefs= True\n",
    "#        self.text = StringIO()\n",
    "#    def handle_data(self, d):\n",
    "#        self.text.write(d)\n",
    "#    def get_data(self):\n",
    "#        return self.text.getvalue()\n",
    "#\n",
    "#def strip_tags(html):\n",
    "#    s = MLStripper()\n",
    "#    s.feed(html)\n",
    "#    return s.get_data()"
   ]
  },
  {
   "cell_type": "code",
   "execution_count": 11,
   "metadata": {},
   "outputs": [],
   "source": [
    "from parallel import process_frame\n",
    "nlp = spacy.load(\"en_core_web_sm\")\n",
    "    \n",
    "pool = mp.Pool(mp.cpu_count()-2)\n",
    "\n",
    "#some shared variables\n",
    "m=mp.Manager()\n",
    "vocab=m.list()    \n",
    "total_words=m.Value('i',0)\n",
    "    \n",
    "for text in df_imdb['review']:\n",
    "    \n",
    "    # process each data frame\n",
    "    job = pool.apply_async(process_frame,args=(nlp,text,vocab,total_words))\n"
   ]
  },
  {
   "cell_type": "code",
   "execution_count": null,
   "metadata": {
    "colab": {
     "base_uri": "https://localhost:8080/"
    },
    "id": "pwkGxprAYk5u",
    "outputId": "70d94949-cfcb-4698-a524-e0a72e03b25e"
   },
   "outputs": [],
   "source": [
    "total_words.value"
   ]
  },
  {
   "cell_type": "code",
   "execution_count": 13,
   "metadata": {
    "colab": {
     "base_uri": "https://localhost:8080/"
    },
    "id": "YNTGi5sIYk5u",
    "outputId": "b0c92bdd-26b5-4ba2-c48d-003cd8858fc5"
   },
   "outputs": [
    {
     "data": {
      "text/plain": [
       "14183"
      ]
     },
     "execution_count": 13,
     "metadata": {},
     "output_type": "execute_result"
    }
   ],
   "source": [
    "len(vocab)"
   ]
  },
  {
   "cell_type": "code",
   "execution_count": null,
   "metadata": {
    "id": "fHDDFd6aQR75"
   },
   "outputs": [],
   "source": [
    "pool.close()\n",
    "pool.join()\n",
    "\n",
    "from datetime import datetime\n",
    "\n",
    "# datetime object containing current date and time\n",
    "now = datetime.now()\n",
    " \n",
    "print(\"now =\", now)\n",
    "\n",
    "# dd/mm/YY H:M:S\n",
    "dt_string = now.strftime(\"%d/%m/%Y %H:%M:%S\")\n",
    "print(\"date and time =\", dt_string)\t"
   ]
  },
  {
   "cell_type": "code",
   "execution_count": 19,
   "metadata": {
    "colab": {
     "base_uri": "https://localhost:8080/",
     "height": 204
    },
    "id": "l3tN4ZxxE-7n",
    "outputId": "1d99eb4a-76b0-4d00-ee37-57d9f6a401b8"
   },
   "outputs": [
    {
     "data": {
      "text/html": [
       "<div>\n",
       "<style scoped>\n",
       "    .dataframe tbody tr th:only-of-type {\n",
       "        vertical-align: middle;\n",
       "    }\n",
       "\n",
       "    .dataframe tbody tr th {\n",
       "        vertical-align: top;\n",
       "    }\n",
       "\n",
       "    .dataframe thead th {\n",
       "        text-align: right;\n",
       "    }\n",
       "</style>\n",
       "<table border=\"1\" class=\"dataframe\">\n",
       "  <thead>\n",
       "    <tr style=\"text-align: right;\">\n",
       "      <th></th>\n",
       "      <th>0</th>\n",
       "    </tr>\n",
       "  </thead>\n",
       "  <tbody>\n",
       "    <tr>\n",
       "      <th>0</th>\n",
       "      <td>[]</td>\n",
       "    </tr>\n",
       "  </tbody>\n",
       "</table>\n",
       "</div>"
      ],
      "text/plain": [
       "    0\n",
       "0  []"
      ]
     },
     "execution_count": 19,
     "metadata": {},
     "output_type": "execute_result"
    }
   ],
   "source": [
    "# salvar o vocab como csv\n",
    "vocab_df = pd.DataFrame([vocab])  \n",
    "vocab_df.head()"
   ]
  },
  {
   "cell_type": "code",
   "execution_count": null,
   "metadata": {
    "id": "eLu9QuRqFyCb"
   },
   "outputs": [],
   "source": [
    "# salvar o vocab como csv\n",
    "#vocab_df.to_csv('vocab.csv')  \n",
    "vocab_df.to_csv('vocab_count.csv')  "
   ]
  },
  {
   "cell_type": "code",
   "execution_count": null,
   "metadata": {
    "id": "v0O7KyTbQaAn"
   },
   "outputs": [],
   "source": [
    "# só manter elementos que aparecem pelo menos 1000 vezes\n",
    "vocab_clean = { key:value for (key, value) in vocab.items() if value >= 1000}"
   ]
  },
  {
   "cell_type": "code",
   "execution_count": null,
   "metadata": {
    "id": "xqS8zRYrQahM"
   },
   "outputs": [],
   "source": [
    "len(vocab_clean)"
   ]
  },
  {
   "cell_type": "code",
   "execution_count": null,
   "metadata": {
    "id": "LkJHVrXvQfr0"
   },
   "outputs": [],
   "source": [
    "vocab_clean_df = pd.DataFrame([vocab_clean])  \n",
    "vocab_clean_df.to_csv('vocab_clean.csv')  "
   ]
  },
  {
   "cell_type": "code",
   "execution_count": null,
   "metadata": {
    "id": "-2Y88BU-QhOi"
   },
   "outputs": [],
   "source": [
    "vocab_columns = list(vocab_clean_df.columns.values)\n",
    "len(vocab_columns)"
   ]
  },
  {
   "cell_type": "code",
   "execution_count": null,
   "metadata": {
    "id": "rZbEMgixYk5v"
   },
   "outputs": [],
   "source": [
    "bow_vec = []      # list to store bag of words vectors\n",
    "total_words = 0\n",
    "\n",
    "for text in df_imdb['review']:\n",
    "   \n",
    "    #cria novo vetor\n",
    "    doc_vec = []\n",
    "    \n",
    "    lemmas = create_lemmas_list(text)\n",
    "    \n",
    "    #conta total words. Não achei necessário, visto que já sabemos isso é 4993856 (dataset limpo)\n",
    "    #total_words = total_words + len(lemmas)\n",
    "    \n",
    "    for vocab_item in vocab_columns: # iterate over vocab_clean \n",
    "        if vocab_item in lemmas: \n",
    "            doc_vec.append(lemmas.count(vocab_item)) # append freq if present\n",
    "        else:\n",
    "            doc_vec.append(0) # else append zero\n",
    "            \n",
    "    bow_vec.append(doc_vec)"
   ]
  },
  {
   "cell_type": "code",
   "execution_count": null,
   "metadata": {
    "id": "84OFV93OYk5v"
   },
   "outputs": [],
   "source": [
    "df_bag = pd.DataFrame(bow_vec, columns = vocab_columns)\n",
    "df_bag.head()"
   ]
  },
  {
   "cell_type": "code",
   "execution_count": null,
   "metadata": {
    "id": "eYYtt1yiealD"
   },
   "outputs": [],
   "source": [
    "# adicionando os sentimentos\n",
    "df_bag['sentiment_target'] = df_imdb['sentiment'].values"
   ]
  },
  {
   "cell_type": "code",
   "execution_count": null,
   "metadata": {
    "id": "YirVRJ1s2iiw"
   },
   "outputs": [],
   "source": [
    "df_bag.head()"
   ]
  },
  {
   "cell_type": "code",
   "execution_count": null,
   "metadata": {
    "id": "yCeMV06Tzatu"
   },
   "outputs": [],
   "source": [
    "# Link do dataset no drive: https://drive.google.com/file/d/1lNDsJ1QeJTvvdlBR8TT6RLDe1ufP-2np/view?usp=sharing\n",
    "# Este data set é muito grande para um commit\n",
    "# df_bag.to_csv('bag_of_words.csv')  \n",
    "\n",
    "# Salvar o dataset full\n",
    "df_bag.to_csv('bag_of_words_full.csv')"
   ]
  },
  {
   "cell_type": "code",
   "execution_count": null,
   "metadata": {
    "id": "NlEo8gZ8_BPi"
   },
   "outputs": [],
   "source": [
    "df_bag.sentiment_target.value_counts().plot(kind = 'barh')"
   ]
  }
 ],
 "metadata": {
  "colab": {
   "name": "main.ipynb",
   "provenance": []
  },
  "kernelspec": {
   "display_name": "Python 3",
   "language": "python",
   "name": "python3"
  },
  "language_info": {
   "codemirror_mode": {
    "name": "ipython",
    "version": 3
   },
   "file_extension": ".py",
   "mimetype": "text/x-python",
   "name": "python",
   "nbconvert_exporter": "python",
   "pygments_lexer": "ipython3",
   "version": "3.8.3"
  }
 },
 "nbformat": 4,
 "nbformat_minor": 1
}

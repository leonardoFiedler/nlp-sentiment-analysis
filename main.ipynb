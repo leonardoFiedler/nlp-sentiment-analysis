{
 "cells": [
  {
   "cell_type": "code",
   "execution_count": null,
   "metadata": {},
   "outputs": [],
   "source": []
  },
  {
   "cell_type": "code",
   "execution_count": 9,
   "metadata": {},
   "outputs": [],
   "source": [
    "#Documentos utilizados\n",
    "# https://realpython.com/sentiment-analysis-python/\n",
    "# https://www.kaggle.com/lakshmi25npathi/imdb-dataset-of-50k-movie-reviews"
   ]
  },
  {
   "cell_type": "code",
   "execution_count": 10,
   "metadata": {},
   "outputs": [],
   "source": [
    "import numpy as np\n",
    "import pandas as pd\n",
    "import spacy"
   ]
  },
  {
   "cell_type": "code",
   "execution_count": 11,
   "metadata": {},
   "outputs": [],
   "source": [
    "df_imdb = pd.read_csv('./IMDB Dataset.csv')"
   ]
  },
  {
   "cell_type": "code",
   "execution_count": 12,
   "metadata": {},
   "outputs": [
    {
     "data": {
      "text/plain": [
       "review       50000\n",
       "sentiment    50000\n",
       "dtype: int64"
      ]
     },
     "execution_count": 12,
     "metadata": {},
     "output_type": "execute_result"
    }
   ],
   "source": [
    "df_imdb.count()"
   ]
  },
  {
   "cell_type": "code",
   "execution_count": 13,
   "metadata": {},
   "outputs": [
    {
     "data": {
      "text/html": [
       "<div>\n",
       "<style scoped>\n",
       "    .dataframe tbody tr th:only-of-type {\n",
       "        vertical-align: middle;\n",
       "    }\n",
       "\n",
       "    .dataframe tbody tr th {\n",
       "        vertical-align: top;\n",
       "    }\n",
       "\n",
       "    .dataframe thead th {\n",
       "        text-align: right;\n",
       "    }\n",
       "</style>\n",
       "<table border=\"1\" class=\"dataframe\">\n",
       "  <thead>\n",
       "    <tr style=\"text-align: right;\">\n",
       "      <th></th>\n",
       "      <th>review</th>\n",
       "      <th>sentiment</th>\n",
       "    </tr>\n",
       "  </thead>\n",
       "  <tbody>\n",
       "    <tr>\n",
       "      <th>0</th>\n",
       "      <td>One of the other reviewers has mentioned that ...</td>\n",
       "      <td>positive</td>\n",
       "    </tr>\n",
       "    <tr>\n",
       "      <th>1</th>\n",
       "      <td>A wonderful little production. &lt;br /&gt;&lt;br /&gt;The...</td>\n",
       "      <td>positive</td>\n",
       "    </tr>\n",
       "    <tr>\n",
       "      <th>2</th>\n",
       "      <td>I thought this was a wonderful way to spend ti...</td>\n",
       "      <td>positive</td>\n",
       "    </tr>\n",
       "    <tr>\n",
       "      <th>3</th>\n",
       "      <td>Basically there's a family where a little boy ...</td>\n",
       "      <td>negative</td>\n",
       "    </tr>\n",
       "    <tr>\n",
       "      <th>4</th>\n",
       "      <td>Petter Mattei's \"Love in the Time of Money\" is...</td>\n",
       "      <td>positive</td>\n",
       "    </tr>\n",
       "  </tbody>\n",
       "</table>\n",
       "</div>"
      ],
      "text/plain": [
       "                                              review sentiment\n",
       "0  One of the other reviewers has mentioned that ...  positive\n",
       "1  A wonderful little production. <br /><br />The...  positive\n",
       "2  I thought this was a wonderful way to spend ti...  positive\n",
       "3  Basically there's a family where a little boy ...  negative\n",
       "4  Petter Mattei's \"Love in the Time of Money\" is...  positive"
      ]
     },
     "execution_count": 13,
     "metadata": {},
     "output_type": "execute_result"
    }
   ],
   "source": [
    "df_imdb.head()"
   ]
  },
  {
   "cell_type": "code",
   "execution_count": 14,
   "metadata": {},
   "outputs": [
    {
     "data": {
      "text/plain": [
       "<matplotlib.axes._subplots.AxesSubplot at 0x29606b76220>"
      ]
     },
     "execution_count": 14,
     "metadata": {},
     "output_type": "execute_result"
    },
    {
     "data": {
      "image/png": "[encoded data removed]",
      "text/plain": [
       "<Figure size 432x288 with 1 Axes>"
      ]
     },
     "metadata": {
      "needs_background": "light"
     },
     "output_type": "display_data"
    }
   ],
   "source": [
    "df_imdb.sentiment.value_counts().plot(kind = 'barh')"
   ]
  },
  {
   "cell_type": "code",
   "execution_count": 15,
   "metadata": {},
   "outputs": [],
   "source": [
    "# Carrega o modelo spacy em ingles e portugues\n",
    "# python -m spacy download en_core_web_sm\n",
    "# python -m spacy download pt_core_news_sm\n",
    "\n",
    "nlp = spacy.load(\"en_core_web_sm\")"
   ]
  },
  {
   "cell_type": "code",
   "execution_count": null,
   "metadata": {},
   "outputs": [],
   "source": [
    "vocab = [] \n",
    "total_words = 0    \n",
    "\n",
    "for text in df_imdb['review']:\n",
    "    \n",
    "    #analisa texto\n",
    "    doc = nlp(text)\n",
    "    \n",
    "    #exporta todos os tokens\n",
    "    token_list = [token for token in doc]\n",
    "    \n",
    "    #exporta todos os tokens evitando stopwords\n",
    "    filtered_tokens = [token for token in doc if not token.is_stop]\n",
    "    \n",
    "    #pega o lemma dos tokens\n",
    "    lemmas = [ token.lemma_ for token in filtered_tokens ]\n",
    "    \n",
    "    #conta total words\n",
    "    total_words = total_words + len(lemmas)\n",
    "    \n",
    "    for i in range(len(lemmas)):\n",
    "        if lemmas[i] not in vocab: # to check if word is already in vocab\n",
    "            vocab.append(lemmas[i])"
   ]
  },
  {
   "cell_type": "code",
   "execution_count": null,
   "metadata": {},
   "outputs": [],
   "source": [
    "total_words"
   ]
  },
  {
   "cell_type": "code",
   "execution_count": null,
   "metadata": {},
   "outputs": [],
   "source": [
    "vocab"
   ]
  },
  {
   "cell_type": "code",
   "execution_count": null,
   "metadata": {},
   "outputs": [],
   "source": [
    "#AQUI O CODIGO ESTA REPETIDO, A PARTE CENTRAL\n",
    "#DA PRA REFATORAR\n",
    "\n",
    "bow_vec = []      # list to store bag of words vectors\n",
    "\n",
    "for i in range(len(df_imdb['review'])):\n",
    "   \n",
    "    #cria novo vetor\n",
    "    doc_vec = []\n",
    "    \n",
    "    #analisa texto\n",
    "    doc = nlp(text)\n",
    "    \n",
    "    #exporta todos os tokens\n",
    "    token_list = [token for token in doc]\n",
    "    \n",
    "    #exporta todos os tokens evitando stopwords\n",
    "    filtered_tokens = [token for token in doc if not token.is_stop]\n",
    "    \n",
    "    #pega o lemma dos tokens\n",
    "    lemmas = [ token.lemma_ for token in filtered_tokens ]\n",
    "    \n",
    "    #conta total words\n",
    "    total_words = total_words + len(lemmas)\n",
    "    \n",
    "    for j in range(len(vocab)): # iterate over vocab \n",
    "        if vocab[j] in lemmas: \n",
    "            doc_vec.append(doc.count(vocab[j])) # append freq if present\n",
    "        else:\n",
    "            doc_vec.append(0) # else append zero\n",
    "            \n",
    "    bow_vec.append(doc_vec)\n",
    "    "
   ]
  },
  {
   "cell_type": "code",
   "execution_count": null,
   "metadata": {},
   "outputs": [],
   "source": [
    "df_bag = pd.DataFrame(bow_vec, columns = vocab)\n",
    "df_bag "
   ]
  }
 ],
 "metadata": {
  "kernelspec": {
   "display_name": "Python 3",
   "language": "python",
   "name": "python3"
  }
 },
 "nbformat": 4,
 "nbformat_minor": 2
}
